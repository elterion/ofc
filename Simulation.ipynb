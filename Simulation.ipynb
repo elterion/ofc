{
 "cells": [
  {
   "cell_type": "code",
   "execution_count": 13,
   "metadata": {},
   "outputs": [],
   "source": [
    "from eval7 import Deck, Card, handtype, evaluate\n",
    "from collections import Counter\n",
    "import time\n",
    "\n",
    "# from royalty_calculator import score_back, score_mid, score_front\n",
    "from hand import Hand\n",
    "# from simulation import solve_4_cards, solve_2_cards #, get_possible_slots, place_cards, is_drawing_dead\n",
    "\n",
    "from itertools import product, permutations, combinations\n",
    "from random import sample"
   ]
  },
  {
   "cell_type": "code",
   "execution_count": null,
   "metadata": {},
   "outputs": [],
   "source": [
    "def is_drawing_dead(hand):\n",
    "    eval_front = evaluate(hand.front)\n",
    "    eval_mid = evaluate(hand.mid)\n",
    "    eval_back = evaluate(hand.back)\n",
    "\n",
    "    if len(hand.back) == 5 and (eval_mid > eval_back or eval_front > eval_back):\n",
    "        return 1\n",
    "\n",
    "    if len(hand.mid) == 5 and eval_front > eval_mid:\n",
    "        return 1"
   ]
  },
  {
   "cell_type": "code",
   "execution_count": 31,
   "metadata": {},
   "outputs": [],
   "source": [
    "def get_possible_slots(hand):\n",
    "    front_slots = 3 - len(hand.front)\n",
    "    mid_slots = 5 - len(hand.mid)\n",
    "    back_slots = 5 - len(hand.back)\n",
    "\n",
    "    return (0,) * front_slots + (1,) * mid_slots + (2,) * back_slots\n",
    "\n",
    "\n",
    "def place_cards(hand, cards_to_place, slots_):\n",
    "    free_slots = set(permutations(slots_, 2))\n",
    "    cards_stack = combinations(cards_to_place, 2)\n",
    "\n",
    "    hands_arr = []\n",
    "\n",
    "    for cards, slots in product(cards_stack, free_slots):\n",
    "        temp_hand = hand.copy()\n",
    "        temp_hand.add_card(cards[0], slots[0])\n",
    "        temp_hand.add_card(cards[1], slots[1])\n",
    "        temp_hand.last_update = (cards, slots)\n",
    "        hands_arr.append(temp_hand)\n",
    "\n",
    "    return hands_arr\n",
    "\n",
    "def is_drawing_dead(hand):\n",
    "    eval_front = evaluate(hand.front)\n",
    "    eval_mid = evaluate(hand.mid)\n",
    "    eval_back = evaluate(hand.back)\n",
    "\n",
    "    if len(hand.back) == 5 and (eval_mid > eval_back or eval_front > eval_back):\n",
    "        return 1\n",
    "\n",
    "    if len(hand.mid) == 5 and eval_front > eval_mid:\n",
    "        return 1\n",
    "\n",
    "\n",
    "def solve_2_cards(hand, cards):\n",
    "    max_score = -6\n",
    "\n",
    "    slots = get_possible_slots(hand)\n",
    "    for current_hand in place_cards(hand, cards, slots):\n",
    "        current_hand.evaluate_hand()\n",
    "        score = current_hand.fantasy_score()\n",
    "        if current_hand.is_fantasy:\n",
    "            score += 8\n",
    "\n",
    "        if score > max_score:\n",
    "            max_score = score\n",
    "\n",
    "    return max_score\n",
    "\n",
    "def solve_4_cards(hand, cards, dead_cards):\n",
    "    values_dic = {}\n",
    "\n",
    "    used_cards = hand.front + hand.mid + hand.back + list(cards) + list(dead_cards)\n",
    "    temp_deck = set(Deck().cards) - set(used_cards)\n",
    "\n",
    "\n",
    "    slots = get_possible_slots(hand)\n",
    "    for current_hand in place_cards(hand, cards, slots):\n",
    "        if is_drawing_dead(current_hand):\n",
    "            cards, slots = current_hand.last_update\n",
    "            values_dic[(cards[0], cards[1], slots[0], slots[1])] = -6\n",
    "        else:\n",
    "            counter = 0\n",
    "            cards, slots = current_hand.last_update\n",
    "            values_dic.setdefault((cards[0], cards[1], slots[0], slots[1]), 0)\n",
    "\n",
    "            for last_street_cards in combinations(temp_deck, 3):\n",
    "                counter += 1\n",
    "                score = solve_2_cards(current_hand, last_street_cards)\n",
    "                values_dic[(cards[0], cards[1], slots[0], slots[1])] += score\n",
    "\n",
    "            values_dic[(cards[0], cards[1], slots[0], slots[1])] /= counter\n",
    "\n",
    "    return values_dic, counter"
   ]
  },
  {
   "cell_type": "code",
   "execution_count": 15,
   "metadata": {},
   "outputs": [],
   "source": [
    "class Simulation:\n",
    "    def __init__(self, hand, dead_cards):\n",
    "        self._hand = hand.copy()\n",
    "        self.dead_cards = dead_cards\n",
    "\n",
    "    def simulate_8_cards(self, hand, cards, n_sim):\n",
    "        used_cards = hand.front + hand.mid + hand.back + list(cards) + self.dead_cards\n",
    "        temp_deck = set(Deck().cards) - set(used_cards)\n",
    "\n",
    "        values_dic = {}\n",
    "\n",
    "        for current_hand in place_cards(hand, cards):\n",
    "            counter = 0\n",
    "            cards, slots = current_hand.last_update\n",
    "            values_dic.setdefault((cards[0], cards[1], slots[0], slots[1]), 0)\n",
    "\n",
    "            all_combinations = list(combinations(temp_deck, 3))\n",
    "            combos = sample(all_combinations, n_sim)\n",
    "            for street_6_cards in combos:\n",
    "                counter += 1\n",
    "                res = self.simulate_6_cards(current_hand, street_6_cards, n_sim)\n",
    "\n",
    "                values_dic[(cards[0], cards[1], slots[0], slots[1])] += max(res.values())\n",
    "\n",
    "            values_dic[(cards[0], cards[1], slots[0], slots[1])] /= counter\n",
    "\n",
    "        return values_dic\n",
    "    \n",
    "    \n",
    "    def simulate_6_cards(self, hand, cards, n_sim):\n",
    "        used_cards = hand.front + hand.mid + hand.back + list(cards) + self.dead_cards\n",
    "        temp_deck = set(Deck().cards) - set(used_cards)\n",
    "\n",
    "        values_dic = {}\n",
    "        slots = get_possible_slots(hand)\n",
    "        \n",
    "        for current_hand in place_cards(hand, cards, slots):\n",
    "            cards, slots = current_hand.last_update\n",
    "            \n",
    "            if is_drawing_dead(current_hand):\n",
    "                values_dic[(cards[0], cards[1], slots[0], slots[1])] = -6\n",
    "            else:\n",
    "                counter = 0\n",
    "                values_dic.setdefault((cards[0], cards[1], slots[0], slots[1]), 0)\n",
    "\n",
    "                all_combinations = list(combinations(temp_deck, 3))\n",
    "                combos = sample(all_combinations, n_sim)\n",
    "                for street_4_cards in combos:\n",
    "                    counter += 1\n",
    "                    res = self.simulate_4_cards(current_hand, street_4_cards, n_sim)\n",
    "\n",
    "                    values_dic[(cards[0], cards[1], slots[0], slots[1])] += max(res.values())\n",
    "\n",
    "                values_dic[(cards[0], cards[1], slots[0], slots[1])] /= counter\n",
    "\n",
    "        return values_dic\n",
    "\n",
    "    \n",
    "    \n",
    "    def simulate_4_cards(self, hand, cards, n_sim):\n",
    "        used_cards = hand.front + hand.mid + hand.back + list(cards) + self.dead_cards\n",
    "        temp_deck = set(Deck().cards) - set(used_cards)\n",
    "\n",
    "        values_dic = {}\n",
    "\n",
    "        slots = get_possible_slots(hand)\n",
    "        for current_hand in place_cards(hand, cards, slots):\n",
    "            cards, slots = current_hand.last_update\n",
    "            \n",
    "            if is_drawing_dead(current_hand):\n",
    "                values_dic[(cards[0], cards[1], slots[0], slots[1])] = -6\n",
    "            else:\n",
    "                values_dic.setdefault((cards[0], cards[1], slots[0], slots[1]), 0)\n",
    "                counter = 0\n",
    "\n",
    "                cards, slots = current_hand.last_update\n",
    "                values_dic.setdefault((cards[0], cards[1], slots[0], slots[1]), 0)\n",
    "\n",
    "                all_combinations = list(combinations(temp_deck, 3))\n",
    "                combos = sample(all_combinations, n_sim)\n",
    "\n",
    "                for last_street_cards in combos:\n",
    "                    counter += 1\n",
    "                    score = solve_2_cards(current_hand, last_street_cards)\n",
    "                    values_dic[(cards[0], cards[1], slots[0], slots[1])] += score\n",
    "\n",
    "                values_dic[(cards[0], cards[1], slots[0], slots[1])] /= counter\n",
    "\n",
    "        return values_dic"
   ]
  },
  {
   "cell_type": "code",
   "execution_count": null,
   "metadata": {},
   "outputs": [],
   "source": []
  },
  {
   "cell_type": "code",
   "execution_count": 16,
   "metadata": {},
   "outputs": [
    {
     "data": {
      "text/plain": [
       "(84711490, 'Flush')"
      ]
     },
     "execution_count": 16,
     "metadata": {},
     "output_type": "execute_result"
    }
   ],
   "source": [
    "combo = [Card('As'), Card('Js'), Card('Ts'), Card('6s'), Card('4s')]\n",
    "evaluate(combo), handtype(evaluate(combo))"
   ]
  },
  {
   "cell_type": "code",
   "execution_count": null,
   "metadata": {},
   "outputs": [],
   "source": []
  },
  {
   "cell_type": "code",
   "execution_count": 19,
   "metadata": {},
   "outputs": [],
   "source": [
    "def makeFantasy(stack):\n",
    "    maxHnd = {}\n",
    "    scr = -1\n",
    "    for i in combinations(stack, 3):\n",
    "        live_cards = (cards for cards in stack if cards not in i)\n",
    "        for j in combinations(live_cards, 5):\n",
    "            live_cards = (cards for cards in stack if cards not in i+j)\n",
    "            for k in combinations(live_cards, 5):\n",
    "                h = {'low' : k, 'middle' : j, 'high' : i}\n",
    "                dc = Score(h)\n",
    "                if not dc.is_mucked() and dc.score_total() > scr:\n",
    "                    maxHnd = h\n",
    "                    scr = dc.score_total()\n",
    "    bestHand = Score(maxHnd)\n",
    "    \n",
    "    print()\n",
    "    print(bestHand)\n",
    "    print('Total Score: ', scr)\n",
    "    #print(count)\n",
    "    #with open(\"Fantasy.txt\", \"a\") as myfile:\n",
    "        #myfile.write(str(scr)+'\\n')"
   ]
  },
  {
   "cell_type": "code",
   "execution_count": null,
   "metadata": {},
   "outputs": [],
   "source": [
    "%timeit score_mid(50632704)"
   ]
  },
  {
   "cell_type": "code",
   "execution_count": null,
   "metadata": {},
   "outputs": [],
   "source": [
    "deck = Deck()\n",
    "deck.shuffle()\n",
    "combo = deck.deal(14)\n",
    "startTime = time.time()\n",
    "makeFantasy(combo)\n",
    "print('time takes: ', str(time.time()-startTime))"
   ]
  },
  {
   "cell_type": "code",
   "execution_count": null,
   "metadata": {},
   "outputs": [],
   "source": [
    "# Добавить проверку, что лучше - взять по максимуму очков сейчас или заложиться на фэнтэзи?"
   ]
  },
  {
   "cell_type": "code",
   "execution_count": null,
   "metadata": {},
   "outputs": [],
   "source": []
  },
  {
   "cell_type": "code",
   "execution_count": 21,
   "metadata": {},
   "outputs": [],
   "source": [
    "def get_average_value(filename):\n",
    "    with open(filename) as f:\n",
    "        content = [line.rstrip('\\n') for line in f]\n",
    "        \n",
    "    sum_ = 0\n",
    "    mucked = 0\n",
    "    for row in content:\n",
    "        points = int(row.split(', ')[-1])\n",
    "        sum_ += points\n",
    "        if points == -6:\n",
    "            mucked += 1\n",
    "        \n",
    "    print('Количество игр:', len(content))\n",
    "    print(f'Среднее количество очков: {sum_/len(content):.2f}')\n",
    "    print(f'Процент busted игр: {mucked / len(content):.2f}')\n"
   ]
  },
  {
   "cell_type": "code",
   "execution_count": 22,
   "metadata": {},
   "outputs": [
    {
     "name": "stdout",
     "output_type": "stream",
     "text": [
      "Количество игр: 1157\n",
      "Среднее количество очков: 2.06\n",
      "Процент busted игр: 0.31\n"
     ]
    }
   ],
   "source": [
    "get_average_value('log.txt')"
   ]
  },
  {
   "cell_type": "code",
   "execution_count": null,
   "metadata": {},
   "outputs": [],
   "source": [
    "# Среднее количество очков при раскладе Фэнтэзи:\n",
    "# 10.55 за 8884 руки\n",
    "\n",
    "# Количество игр: 1157\n",
    "# Среднее количество очков: 2.06\n",
    "# Процент busted игр: 0.31"
   ]
  },
  {
   "cell_type": "code",
   "execution_count": null,
   "metadata": {},
   "outputs": [],
   "source": []
  },
  {
   "cell_type": "code",
   "execution_count": null,
   "metadata": {},
   "outputs": [],
   "source": []
  },
  {
   "cell_type": "code",
   "execution_count": null,
   "metadata": {},
   "outputs": [],
   "source": [
    "h = Hand([Card('Qh'), Card('Qc'), ], \n",
    "         [Card('5c'), Card('2h'), Card('5s'), ], \n",
    "         [Card('Jd'), Card('3d')])\n",
    "cards = (Card('Th'), Card('Ts'), Card('5d'))"
   ]
  },
  {
   "cell_type": "code",
   "execution_count": 27,
   "metadata": {},
   "outputs": [],
   "source": [
    "h = Hand([Card('Ad'), Card('Qd'), ], \n",
    "         [Card('6d'), Card('2h'), Card('2d'), Card('4s'),], \n",
    "         [Card('9d'), Card('7s'), Card('9c')])\n",
    "cards = (Card('Qh'), Card('2c'), Card('8h'))"
   ]
  },
  {
   "cell_type": "code",
   "execution_count": 25,
   "metadata": {},
   "outputs": [],
   "source": [
    "h = Hand([Card('Ad'), Card('Qs'), ], \n",
    "         [Card('6h'), Card('7c'), Card('6d')], \n",
    "         [Card('8d'), Card('8c'), Card('Jc'), Card('Jd'),])\n",
    "cards = (Card('Th'), Card('6s'), Card('5s'))"
   ]
  },
  {
   "cell_type": "code",
   "execution_count": 23,
   "metadata": {},
   "outputs": [],
   "source": [
    "h = Hand([Card('Qc'), Card('Kc'), Card('Kh')], \n",
    "         [Card('6d'), Card('6h'), Card('2s')], \n",
    "         [Card('Jd'), Card('Js'), Card('9d'),])\n",
    "cards = (Card('6s'), Card('Kd'), Card('4d'))"
   ]
  },
  {
   "cell_type": "code",
   "execution_count": null,
   "metadata": {},
   "outputs": [],
   "source": []
  },
  {
   "cell_type": "code",
   "execution_count": 40,
   "metadata": {},
   "outputs": [
    {
     "data": {
      "text/plain": [
       "({(Card(\"Qh\"), Card(\"2c\"), 0, 1): -2.049458365247839,\n",
       "  (Card(\"Qh\"), Card(\"2c\"), 1, 2): -0.00656526972316446,\n",
       "  (Card(\"Qh\"), Card(\"2c\"), 2, 1): -4.188751504540979,\n",
       "  (Card(\"Qh\"), Card(\"2c\"), 2, 0): -0.007002954371375424,\n",
       "  (Card(\"Qh\"), Card(\"2c\"), 0, 2): -3.1967392493708284,\n",
       "  (Card(\"Qh\"), Card(\"2c\"), 2, 2): -0.02954371375424007,\n",
       "  (Card(\"Qh\"), Card(\"2c\"), 1, 0): 0.24597877229456178,\n",
       "  (Card(\"Qh\"), Card(\"8h\"), 0, 1): -6,\n",
       "  (Card(\"Qh\"), Card(\"8h\"), 1, 2): -0.00656526972316446,\n",
       "  (Card(\"Qh\"), Card(\"8h\"), 2, 1): -0.00656526972316446,\n",
       "  (Card(\"Qh\"), Card(\"8h\"), 2, 0): -0.007002954371375424,\n",
       "  (Card(\"Qh\"), Card(\"8h\"), 0, 2): -2.4246635299266877,\n",
       "  (Card(\"Qh\"), Card(\"8h\"), 2, 2): -0.02954371375424007,\n",
       "  (Card(\"Qh\"), Card(\"8h\"), 1, 0): 0.24597877229456178,\n",
       "  (Card(\"2c\"), Card(\"8h\"), 0, 1): 0.24597877229456178,\n",
       "  (Card(\"2c\"), Card(\"8h\"), 1, 2): -4.188751504540979,\n",
       "  (Card(\"2c\"), Card(\"8h\"), 2, 1): -0.00656526972316446,\n",
       "  (Card(\"2c\"), Card(\"8h\"), 2, 0): 0.002844950213371266,\n",
       "  (Card(\"2c\"), Card(\"8h\"), 0, 2): -0.007002954371375424,\n",
       "  (Card(\"2c\"), Card(\"8h\"), 2, 2): -0.02954371375424007,\n",
       "  (Card(\"2c\"), Card(\"8h\"), 1, 0): -4.46547762337236},\n",
       " 9139)"
      ]
     },
     "execution_count": 40,
     "metadata": {},
     "output_type": "execute_result"
    }
   ],
   "source": [
    "solve_4_cards(h, cards, (Card('Ks'),))"
   ]
  },
  {
   "cell_type": "code",
   "execution_count": 41,
   "metadata": {},
   "outputs": [
    {
     "name": "stdout",
     "output_type": "stream",
     "text": [
      "CPU times: total: 219 ms\n",
      "Wall time: 283 ms\n"
     ]
    },
    {
     "data": {
      "text/plain": [
       "{(Card(\"Qh\"), Card(\"2c\"), 0, 1): -2.486,\n",
       " (Card(\"Qh\"), Card(\"2c\"), 1, 2): -0.012,\n",
       " (Card(\"Qh\"), Card(\"2c\"), 2, 1): -4.106,\n",
       " (Card(\"Qh\"), Card(\"2c\"), 2, 0): 0.02,\n",
       " (Card(\"Qh\"), Card(\"2c\"), 0, 2): -3.036,\n",
       " (Card(\"Qh\"), Card(\"2c\"), 2, 2): -0.024,\n",
       " (Card(\"Qh\"), Card(\"2c\"), 1, 0): 0.204,\n",
       " (Card(\"Qh\"), Card(\"8h\"), 0, 1): -6,\n",
       " (Card(\"Qh\"), Card(\"8h\"), 1, 2): 0.0,\n",
       " (Card(\"Qh\"), Card(\"8h\"), 2, 1): 0.0,\n",
       " (Card(\"Qh\"), Card(\"8h\"), 2, 0): 0.016,\n",
       " (Card(\"Qh\"), Card(\"8h\"), 0, 2): -2.082,\n",
       " (Card(\"Qh\"), Card(\"8h\"), 2, 2): 0.0,\n",
       " (Card(\"Qh\"), Card(\"8h\"), 1, 0): 0.196,\n",
       " (Card(\"2c\"), Card(\"8h\"), 0, 1): 0.268,\n",
       " (Card(\"2c\"), Card(\"8h\"), 1, 2): -4.596,\n",
       " (Card(\"2c\"), Card(\"8h\"), 2, 1): 0.0,\n",
       " (Card(\"2c\"), Card(\"8h\"), 2, 0): 0.004,\n",
       " (Card(\"2c\"), Card(\"8h\"), 0, 2): 0.008,\n",
       " (Card(\"2c\"), Card(\"8h\"), 2, 2): -0.012,\n",
       " (Card(\"2c\"), Card(\"8h\"), 1, 0): -4.528}"
      ]
     },
     "execution_count": 41,
     "metadata": {},
     "output_type": "execute_result"
    }
   ],
   "source": [
    "sim = Simulation(h, [])\n",
    "%time sim.simulate_4_cards(h, cards, 500)"
   ]
  },
  {
   "cell_type": "code",
   "execution_count": null,
   "metadata": {},
   "outputs": [],
   "source": []
  },
  {
   "cell_type": "code",
   "execution_count": null,
   "metadata": {},
   "outputs": [],
   "source": []
  },
  {
   "cell_type": "code",
   "execution_count": null,
   "metadata": {},
   "outputs": [],
   "source": []
  },
  {
   "cell_type": "code",
   "execution_count": null,
   "metadata": {},
   "outputs": [],
   "source": [
    "# Проверка руки:\n",
    "# - Если в нижнем слоте 4 карты и не флэш/стрит-дро, тогда проверяем, чтобы карта, положенная в средний/верхний слот\n",
    "#   не делала руку мёртвой\n",
    "\n",
    "# - Для каждой комбинации карт вычисляем максимально и минимально возможное количество кушей. MiniMax value.\n",
    "#   Из всез значений в узловой точке выбираем то, которое ведёт к максимальному результату. Учитываем вероятности.\n",
    "\n",
    "# - Сделать раздельные проверки для 2-3-6 свободных слотов, чтобы не тратить лишнее время\n"
   ]
  },
  {
   "cell_type": "code",
   "execution_count": null,
   "metadata": {},
   "outputs": [],
   "source": [
    "# Filtering\n",
    "# - Вычисляем все возможные перестановки, но берём только лучшую часть из них, не надо считать все\n",
    "# - Можно попробовать брать не только лучшие варианты, но и парочку случайных - на тему генетических алгоритмов\n",
    "# - Проверяем, что карта, положенная в слот, или дополняет дрова, или усиливает руку до следующего ранга (evaluate)"
   ]
  },
  {
   "cell_type": "code",
   "execution_count": null,
   "metadata": {},
   "outputs": [],
   "source": [
    "# Tree pruning\n",
    "# - Если на каком-то этапе я понимаю, что текущий выбор уже лучше/хуже, чем предыдущий, можно дальше не считать, а брать\n",
    "#   его по дефолту и сравнивать именно его с дальнейшими вариантами"
   ]
  },
  {
   "cell_type": "code",
   "execution_count": null,
   "metadata": {},
   "outputs": [],
   "source": []
  },
  {
   "cell_type": "code",
   "execution_count": null,
   "metadata": {},
   "outputs": [],
   "source": []
  },
  {
   "cell_type": "code",
   "execution_count": null,
   "metadata": {},
   "outputs": [],
   "source": [
    "%time solved_dict = solve_4_cards(h, cards, dead_cards)"
   ]
  },
  {
   "cell_type": "code",
   "execution_count": null,
   "metadata": {},
   "outputs": [],
   "source": [
    "%time sim_dict = sim.simulate_4_cards(h, cards, 200)"
   ]
  },
  {
   "cell_type": "code",
   "execution_count": null,
   "metadata": {},
   "outputs": [],
   "source": [
    "print('Solution: {} - {}, {} - {}; Score: {:.2f}'.format(*max(solved_dict, key=solved_dict.get), max(solved_dict.values())))\n",
    "print('Simulation: {} - {}, {} - {}; Score: {:.2f}'.format(*max(sim_dict, key=sim_dict.get), max(sim_dict.values())))"
   ]
  },
  {
   "cell_type": "code",
   "execution_count": null,
   "metadata": {},
   "outputs": [],
   "source": [
    "# 3.75 s\n",
    "# 100 ms"
   ]
  },
  {
   "cell_type": "code",
   "execution_count": null,
   "metadata": {},
   "outputs": [],
   "source": []
  },
  {
   "cell_type": "code",
   "execution_count": null,
   "metadata": {},
   "outputs": [],
   "source": []
  },
  {
   "cell_type": "code",
   "execution_count": null,
   "metadata": {},
   "outputs": [],
   "source": []
  },
  {
   "cell_type": "code",
   "execution_count": null,
   "metadata": {},
   "outputs": [],
   "source": [
    "def is_straight_possible(cards):\n",
    "    score = evaluate(cards)\n",
    "    no_pair_flag = handtype(score) == 'High Card'\n",
    "    \n",
    "    if not 1 < len(cards) < 5:\n",
    "        raise AttributeError('Number of cards should be 1 < len(cards) < 5')\n",
    "    \n",
    "    if not no_pair_flag:\n",
    "        return False\n",
    "    \n",
    "    values = list(card.rank for card in cards)\n",
    "    values.sort()\n",
    "    \n",
    "    if max(values) - min(values) < 5:\n",
    "        return True\n",
    "    \n",
    "    if values[-1] == 12 and values[-2] < 4:\n",
    "        return True\n",
    "    \n",
    "    return False"
   ]
  },
  {
   "cell_type": "code",
   "execution_count": null,
   "metadata": {},
   "outputs": [],
   "source": [
    "def is_flush_possible(cards):\n",
    "    if not 1 < len(cards) < 5:\n",
    "        raise AttributeError('Number of cards should be 1 < len(cards) < 5')\n",
    "\n",
    "    return len(set(card.suit for card in cards)) == 1"
   ]
  },
  {
   "cell_type": "code",
   "execution_count": null,
   "metadata": {},
   "outputs": [],
   "source": [
    "is_straight_possible(cards)"
   ]
  },
  {
   "cell_type": "code",
   "execution_count": null,
   "metadata": {},
   "outputs": [],
   "source": [
    "is_flush_possible(cards)"
   ]
  },
  {
   "cell_type": "code",
   "execution_count": null,
   "metadata": {},
   "outputs": [],
   "source": [
    "cards = (Card(\"2s\"), Card(\"3s\"))\n",
    "values = list(card.rank for card in cards)\n",
    "index_min = min(range(len(values)), key=values.__getitem__)\n",
    "cards[index_min]"
   ]
  },
  {
   "cell_type": "code",
   "execution_count": null,
   "metadata": {},
   "outputs": [],
   "source": []
  }
 ],
 "metadata": {
  "anaconda-cloud": {},
  "kernelspec": {
   "display_name": "Python 3 (ipykernel)",
   "language": "python",
   "name": "python3"
  },
  "language_info": {
   "codemirror_mode": {
    "name": "ipython",
    "version": 3
   },
   "file_extension": ".py",
   "mimetype": "text/x-python",
   "name": "python",
   "nbconvert_exporter": "python",
   "pygments_lexer": "ipython3",
   "version": "3.10.9"
  }
 },
 "nbformat": 4,
 "nbformat_minor": 1
}
