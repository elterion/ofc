{
 "cells": [
  {
   "cell_type": "code",
   "execution_count": 31,
   "id": "cd0a06c5",
   "metadata": {},
   "outputs": [],
   "source": [
    "import sys\n",
    "from hand import Hand\n",
    "from utils import get_possible_slots\n",
    "from eval7 import Deck, Card, handtype, evaluate\n",
    "import random\n",
    "from random import sample\n",
    "from itertools import product, permutations, combinations\n",
    "from tqdm import tqdm\n",
    "\n",
    "import numpy as np"
   ]
  },
  {
   "cell_type": "code",
   "execution_count": 32,
   "id": "a2515965",
   "metadata": {},
   "outputs": [],
   "source": [
    "def place_cards(hand, cards_to_place, slots_):\n",
    "    free_slots = set(permutations(slots_, 2))\n",
    "    cards_stack = combinations(cards_to_place, 2)\n",
    "\n",
    "    hands_arr = []\n",
    "\n",
    "    for cards, slots in product(cards_stack, free_slots):\n",
    "        temp_hand = hand.copy()\n",
    "        temp_hand.add_card(cards[0], slots[0])\n",
    "        temp_hand.add_card(cards[1], slots[1])\n",
    "        temp_hand.last_update = (cards, slots)\n",
    "        dead_card = set(cards_to_place) - set(cards)\n",
    "        hands_arr.append((temp_hand))\n",
    "\n",
    "    return hands_arr\n",
    "\n",
    "def is_drawing_dead(hand):\n",
    "    eval_front = evaluate(hand.front)\n",
    "    eval_mid = evaluate(hand.mid)\n",
    "    eval_back = evaluate(hand.back)\n",
    "\n",
    "    if len(hand.back) == 5 and (eval_mid > eval_back or eval_front > eval_back):\n",
    "        return 1\n",
    "\n",
    "    if len(hand.mid) == 5 and eval_front > eval_mid:\n",
    "        return 1\n",
    "\n",
    "def solve_2_cards(hand, cards, result='score'):\n",
    "    max_score = -6\n",
    "    if result == 'arr':\n",
    "        res_arr = []\n",
    "\n",
    "    slots = get_possible_slots(hand)\n",
    "    for current_hand in place_cards(hand, cards, slots):\n",
    "        current_hand.evaluate_hand()\n",
    "        score = current_hand.fantasy_score()\n",
    "        if current_hand.is_fantasy:\n",
    "            score += 8\n",
    "\n",
    "        if score >= max_score:\n",
    "            max_score = score\n",
    "            \n",
    "            if result == 'arr':\n",
    "                res_arr = [(cards[0], slots[0]), (cards[1], slots[1])]\n",
    "\n",
    "    if result == 'score':\n",
    "        return max_score\n",
    "    elif result == 'arr':\n",
    "        return res_arr\n",
    "\n",
    "def solve_4_cards(hand, hole_cards):\n",
    "    values_dic = {}\n",
    "\n",
    "    used_cards = hand.front + hand.mid + hand.back + list(hole_cards) + hand.dead_cards\n",
    "    temp_deck = tuple(card for card in Deck().cards if card not in used_cards)\n",
    "\n",
    "    slots = get_possible_slots(hand)\n",
    "    for current_hand in place_cards(hand, hole_cards, slots):\n",
    "        cards, slots = current_hand.last_update\n",
    "        values_dic.setdefault((cards[0], slots[0], cards[1], slots[1]), 0)\n",
    "\n",
    "        for counter, last_street_cards in enumerate(combinations(temp_deck, 3)):\n",
    "            score = solve_2_cards(current_hand, last_street_cards)\n",
    "            values_dic[(cards[0], slots[0], cards[1], slots[1])] += score\n",
    "\n",
    "        values_dic[(cards[0], slots[0], cards[1], slots[1])] /= (counter + 1)\n",
    "\n",
    "    return max(values_dic, key=values_dic.get)\n",
    "\n",
    "def simulate_4_cards(hand, cards, n_sim, result='arr'):\n",
    "        used_cards = hand.front + hand.mid + hand.back + list(cards) + hand.dead_cards\n",
    "        temp_deck = tuple(card for card in Deck().cards if card not in used_cards)\n",
    "\n",
    "        values_dic = {}\n",
    "\n",
    "        slots = get_possible_slots(hand)\n",
    "        for current_hand in place_cards(hand, cards, slots):\n",
    "            cards, slots = current_hand.last_update\n",
    "            \n",
    "            if is_drawing_dead(current_hand):\n",
    "                values_dic[(cards[0], slots[0], cards[1], slots[1])] = -6\n",
    "            else:\n",
    "                values_dic.setdefault((cards[0], slots[0], cards[1], slots[1]), 0)\n",
    "                all_combinations = list(combinations(temp_deck, 3))\n",
    "                combos = sample(all_combinations, n_sim)\n",
    "\n",
    "                for counter, last_street_cards in enumerate(combos):\n",
    "                    score = solve_2_cards(current_hand, last_street_cards)\n",
    "                    values_dic[(cards[0], slots[0], cards[1], slots[1])] += score\n",
    "\n",
    "                values_dic[(cards[0], slots[0], cards[1], slots[1])] /= (counter + 1)\n",
    "\n",
    "        if result == 'score':\n",
    "            return values_dic\n",
    "        elif result == 'arr':\n",
    "            return max(values_dic, key=values_dic.get)\n",
    "\n",
    "def simulate_6_cards(hand, cards, n_sim_4, n_sim_6, result='arr'):\n",
    "        used_cards = hand.front + hand.mid + hand.back + list(cards) + hand.dead_cards\n",
    "        temp_deck = tuple(card for card in Deck().cards if card not in used_cards)\n",
    "\n",
    "        values_dic = {}\n",
    "        slots = get_possible_slots(hand)\n",
    "        \n",
    "        for current_hand in place_cards(hand, cards, slots):\n",
    "            cards, slots = current_hand.last_update\n",
    "            \n",
    "            if is_drawing_dead(current_hand):\n",
    "                values_dic[(cards[0], slots[0], cards[1], slots[1])] = -6\n",
    "            else:\n",
    "                values_dic.setdefault((cards[0], slots[0], cards[1], slots[1]), 0)\n",
    "\n",
    "                all_combinations = list(combinations(temp_deck, 3))\n",
    "                combos = sample(all_combinations, n_sim_6)\n",
    "                \n",
    "                for counter, street_4_cards in enumerate(combos):\n",
    "                    res = simulate_4_cards(current_hand, street_4_cards, n_sim_4, result='score')\n",
    "                    values_dic[(cards[0], slots[0], cards[1], slots[1])] += max(res.values())\n",
    "\n",
    "                values_dic[(cards[0], slots[0], cards[1], slots[1])] /= (counter + 1)\n",
    "\n",
    "        if result == 'score':\n",
    "            return values_dic\n",
    "        elif result == 'arr':\n",
    "            return max(values_dic, key=values_dic.get)\n",
    "    \n",
    "def simulate_8_cards(hand, cards, n_sim_4, n_sim_6, n_sim_8, result='arr'):\n",
    "        used_cards = hand.front + hand.mid + hand.back + list(cards) + hand.dead_cards\n",
    "        temp_deck = tuple(card for card in Deck().cards if card not in used_cards)\n",
    "\n",
    "        values_dic = {}\n",
    "        slots = get_possible_slots(hand)\n",
    "\n",
    "        for current_hand in place_cards(hand, cards, slots):\n",
    "            cards, slots = current_hand.last_update\n",
    "            values_dic.setdefault((cards[0], slots[0], cards[1], slots[1]), 0)\n",
    "\n",
    "            all_combinations = list(combinations(temp_deck, 3))\n",
    "            combos = sample(all_combinations, n_sim_8)\n",
    "            \n",
    "            for counter, street_cards in enumerate(combos):\n",
    "                counter += 1\n",
    "                res = simulate_6_cards(current_hand, street_cards, n_sim_4, n_sim_6, result='score')\n",
    "\n",
    "                values_dic[(cards[0], slots[0], cards[1], slots[1])] += max(res.values())\n",
    "\n",
    "            values_dic[(cards[0], slots[0], cards[1], slots[1])] /= (counter +1)\n",
    "\n",
    "        if result == 'score':\n",
    "            return values_dic\n",
    "        elif result == 'arr':\n",
    "            return max(values_dic, key=values_dic.get)"
   ]
  },
  {
   "cell_type": "code",
   "execution_count": 33,
   "id": "b1753d9e",
   "metadata": {},
   "outputs": [],
   "source": [
    "class OFCRandomAgent():\n",
    "    \"\"\"Place cards at random\"\"\"\n",
    "\n",
    "    def place_cards(self, cards, hand):\n",
    "        if len(cards) == 3:\n",
    "            cards_to_place = random.sample(cards, 2)\n",
    "            hand.dead_cards.append(list(set(cards) - set(cards_to_place))[0])\n",
    "        else:\n",
    "            cards_to_place = cards\n",
    "            \n",
    "        res = []\n",
    "        \n",
    "        empty_cells = {0: 3 - len(hand.front), 1: 5 - len(hand.mid), 2: 5 - len(hand.back)}\n",
    "        \n",
    "        for card in cards_to_place:\n",
    "            space = [k for k, v in empty_cells.items() if v > 0]\n",
    "            row = random.choice(space)\n",
    "            empty_cells[row] -= 1\n",
    "            \n",
    "            res.append((card, row))\n",
    "                                                \n",
    "        return res\n",
    "    \n",
    "    \n",
    "class Solver():    \n",
    "    def place_cards(self, cards, hand):\n",
    "        n_cards = len(hand.front + hand.mid + hand.back)\n",
    "        \n",
    "        if n_cards == 9:\n",
    "            res = solve_4_cards(hand, cards)\n",
    "            return ((res[0], res[1]), (res[2], res[3]))\n",
    "        elif n_cards == 11:\n",
    "            return solve_2_cards(hand, cards, result='arr')\n",
    "        \n",
    "        if len(cards) == 3:\n",
    "            cards_to_place = random.sample(cards, 2)\n",
    "            hand.dead_cards.append(list(set(cards) - set(cards_to_place))[0])\n",
    "        else:\n",
    "            cards_to_place = cards            \n",
    "            \n",
    "        res = []\n",
    "        \n",
    "        empty_cells = hand.get_empty_cells()\n",
    "        \n",
    "        for card in cards_to_place:\n",
    "            space = [k for k, v in empty_cells.items() if v > 0]\n",
    "            row = random.choice(space)\n",
    "            empty_cells[row] -= 1\n",
    "            \n",
    "            res.append((card, row))\n",
    "                                                            \n",
    "        return res\n",
    "    \n",
    "    \n",
    "class Sim():\n",
    "    def __init__(self, n_sim_4=None, n_sim_6=None, n_sim_8=None):\n",
    "        self.n_sim_4 = n_sim_4\n",
    "        self.n_sim_6 = n_sim_6\n",
    "        self.n_sim_8 = n_sim_8\n",
    "        \n",
    "    def place_cards(self, cards, hand):\n",
    "        n_cards = len(hand.front + hand.mid + hand.back)\n",
    "        \n",
    "        if self.n_sim_8 and n_cards == 5:\n",
    "            res = simulate_8_cards(hand, cards, self.n_sim_4, self.n_sim_6, self.n_sim_8)\n",
    "            return ((res[0], res[1]), (res[2], res[3]))\n",
    "        elif self.n_sim_6 and n_cards == 7:\n",
    "            res = simulate_6_cards(hand, cards, self.n_sim_4, self.n_sim_6)\n",
    "            return ((res[0], res[1]), (res[2], res[3]))\n",
    "        elif self.n_sim_4 and n_cards == 9:\n",
    "            res = simulate_4_cards(hand, cards, self.n_sim_4)\n",
    "            return ((res[0], res[1]), (res[2], res[3]))\n",
    "        elif n_cards == 11:\n",
    "            return solve_2_cards(hand, cards, result='arr')\n",
    "        \n",
    "        if len(cards) == 3:\n",
    "            cards_to_place = random.sample(cards, 2)\n",
    "            hand.dead_cards.append(list(set(cards) - set(cards_to_place))[0])\n",
    "        else:\n",
    "            cards_to_place = cards            \n",
    "            \n",
    "        res = []\n",
    "        \n",
    "        empty_cells = hand.get_empty_cells()\n",
    "        \n",
    "        for card in cards_to_place:\n",
    "            space = [k for k, v in empty_cells.items() if v > 0]\n",
    "            row = random.choice(space)\n",
    "            empty_cells[row] -= 1\n",
    "            \n",
    "            res.append((card, row))\n",
    "                                                                        \n",
    "        return res"
   ]
  },
  {
   "cell_type": "code",
   "execution_count": 34,
   "id": "67af6865",
   "metadata": {},
   "outputs": [],
   "source": [
    "class OFCHumanAgent():\n",
    "    def place_cards(self, cards, hand):\n",
    "        while True:\n",
    "            place_list = []\n",
    "            dead_card = None\n",
    "            empty_cells = {-1: 0, 0: 3 - len(hand.front), 1: 5 - len(hand.mid), 2: 5 - len(hand.back)}\n",
    "\n",
    "            for card in cards:\n",
    "                while True:\n",
    "                    try:\n",
    "                        row = int(input(f'Выберите номер ряда для карты {card}. Чтобы пропустить карту введите -1: '))\n",
    "                    except(ValueError):\n",
    "                        print('Номер ряда должен быть числом.')\n",
    "                        continue\n",
    "                    except KeyboardInterrupt:\n",
    "                        sys.exit(0)\n",
    "\n",
    "                    if row not in (-1, 0, 1, 2):\n",
    "                        print('Введите корректный номер ряда:')\n",
    "                        continue\n",
    "                    if row == -1:\n",
    "                        if sum(empty_cells.values()) > 8:\n",
    "                            print('В первом раунде необходимо выложить все карты.')\n",
    "                            continue\n",
    "                        dead_card = card\n",
    "                        break\n",
    "                    else:\n",
    "                        empty_cells[row] -= 1\n",
    "\n",
    "                    if empty_cells[row] < 0:\n",
    "                        print('Ряд заполнен! Введите корректный номер ряда:')\n",
    "                        continue\n",
    "\n",
    "                    place_list.append((card, row))\n",
    "\n",
    "                    break\n",
    "\n",
    "            if len(hand.front + hand.mid + hand.back) >= 5 and len(place_list) != 2:\n",
    "                print('Необходимо выложить на доску ровно 2 карты.')\n",
    "                continue\n",
    "\n",
    "            break\n",
    "        \n",
    "        if dead_card:\n",
    "            hand.dead_cards.append(dead_card)\n",
    "        \n",
    "        return place_list"
   ]
  },
  {
   "cell_type": "code",
   "execution_count": 35,
   "id": "b1b0b20d",
   "metadata": {},
   "outputs": [],
   "source": [
    "class OnePlayerGame:\n",
    "    def __init__(self, agent = None, verbose = False):\n",
    "        self.hand = Hand()\n",
    "        self.deck = Deck()\n",
    "        self.deck.shuffle()\n",
    "        self.agent = agent\n",
    "        self.verbose = verbose\n",
    "        \n",
    "        self.placed_cards = []\n",
    "\n",
    "    def __print_cards(self, cards):\n",
    "        print([x.__str__() for x in cards])\n",
    "\n",
    "    def __print_hand(self, hand):\n",
    "        len_front = 3 - len(hand.front)\n",
    "        len_mid = 5 - len(hand.mid)\n",
    "        len_back = 5 - len(hand.back)\n",
    "\n",
    "        temp_front = [card.__str__() for card in hand.front] + ['#'] * len_front\n",
    "        temp_mid = [card.__str__() for card in hand.mid] + ['#'] * len_mid\n",
    "        temp_back = [card.__str__() for card in hand.back] + ['#'] * len_back\n",
    "\n",
    "        print(temp_front)\n",
    "        print(temp_mid)\n",
    "        print(temp_back)\n",
    "\n",
    "    def __place_card(self, cards):\n",
    "        place_list = self.agent.place_cards(cards, self.hand)\n",
    "\n",
    "        for card, row in place_list:\n",
    "            self.hand.add_card(card, row)\n",
    "        \n",
    "    def play_street(self):\n",
    "        if self.hand.front + self.hand.mid + self.hand.back:\n",
    "            cards = self.deck.deal(3)\n",
    "        else:\n",
    "            cards = self.deck.deal(5)\n",
    "        if self.verbose:\n",
    "            self.__print_hand(self.hand)\n",
    "            print('*' * 10)\n",
    "            print('Cards:')\n",
    "            self.__print_cards(cards)\n",
    "        self.__place_card(cards)"
   ]
  },
  {
   "cell_type": "code",
   "execution_count": null,
   "id": "ac261b56",
   "metadata": {},
   "outputs": [],
   "source": []
  },
  {
   "cell_type": "code",
   "execution_count": null,
   "id": "132c0e65",
   "metadata": {},
   "outputs": [],
   "source": [
    "def main(agent, verbose=False):\n",
    "    game = OnePlayerGame(agent=agent, verbose=verbose)\n",
    "    for _ in range(5):\n",
    "        game.play_street()\n",
    "\n",
    "    game.hand.evaluate_hand()\n",
    "    if verbose:\n",
    "        print('*' * 10)\n",
    "        game.hand.print_hand()\n",
    "            \n",
    "    return game.hand.fantasy_score()"
   ]
  },
  {
   "cell_type": "code",
   "execution_count": null,
   "id": "d9aef31b",
   "metadata": {},
   "outputs": [],
   "source": [
    "agent = Sim(10)\n",
    "main(agent)"
   ]
  },
  {
   "cell_type": "code",
   "execution_count": null,
   "id": "c2dd2127",
   "metadata": {},
   "outputs": [],
   "source": []
  },
  {
   "cell_type": "code",
   "execution_count": null,
   "id": "1ed9147d",
   "metadata": {},
   "outputs": [],
   "source": []
  },
  {
   "cell_type": "code",
   "execution_count": null,
   "id": "3d795f47",
   "metadata": {},
   "outputs": [],
   "source": [
    "# res = []\n",
    "agent = Sim(5, 10, 10)\n",
    "\n",
    "# main(agent)\n",
    "\n",
    "for _ in tqdm(range(150)):\n",
    "    res.append(main(agent))\n",
    "    \n",
    "print(np.mean(res))"
   ]
  },
  {
   "cell_type": "code",
   "execution_count": null,
   "id": "ed7a6164",
   "metadata": {},
   "outputs": [],
   "source": [
    "len(res)"
   ]
  },
  {
   "cell_type": "code",
   "execution_count": null,
   "id": "25550b63",
   "metadata": {},
   "outputs": [],
   "source": [
    "# average random score: -4.11 for 1_000_000 samples\n",
    "# Solver_2 score: -4.12 for 1_000_000 samples\n",
    "\n",
    "# Solver_4 score: -2.76 for 1_000 samples, 33 min\n",
    "# Sim_4, 500 sims, score: -2.78 for 1_000 samples, 01:47 min\n",
    "# Sim_4, 100 sims, score: -2.89 for 1_000 samples, 26 sec\n",
    "\n",
    "# Sim_6, 50-20 sims, score: -1.81 for 1_000 samples, 1:48 hour\n",
    "# Sim_6, 10-10 sims, score: -1.71 for 1_000 samples, 25:13 min\n",
    "\n",
    "# Sim_8, 5-10-10 sims, score: -0.99 for 200 samples, 17:42 hour"
   ]
  },
  {
   "cell_type": "code",
   "execution_count": null,
   "id": "7593ac9f",
   "metadata": {},
   "outputs": [],
   "source": []
  },
  {
   "cell_type": "code",
   "execution_count": null,
   "id": "44149032",
   "metadata": {},
   "outputs": [],
   "source": []
  },
  {
   "cell_type": "code",
   "execution_count": null,
   "id": "02589895",
   "metadata": {},
   "outputs": [],
   "source": [
    "len(list(combinations(range(38), 3)))"
   ]
  },
  {
   "cell_type": "code",
   "execution_count": 36,
   "id": "ff9d670e",
   "metadata": {},
   "outputs": [],
   "source": [
    "h = Hand([Card('Ad'), Card('Qd')], \n",
    "         [Card('6d'), Card('2h'), Card('2d'), Card('4s'),], \n",
    "         [Card('9d'), Card('7s'), Card('9c')])\n",
    "cards = (Card('4h'), Card('9h'), Card('2c'))\n",
    "dead_cards = [Card('Ac'), Card('4c')]"
   ]
  },
  {
   "cell_type": "code",
   "execution_count": 104,
   "id": "7e0d1d49",
   "metadata": {},
   "outputs": [
    {
     "data": {
      "text/plain": [
       "(Card(\"9h\"), 2, Card(\"2c\"), 1)"
      ]
     },
     "execution_count": 104,
     "metadata": {},
     "output_type": "execute_result"
    }
   ],
   "source": [
    "solve_4_cards(h, cards)"
   ]
  },
  {
   "cell_type": "code",
   "execution_count": 30,
   "id": "3bc8ed08",
   "metadata": {},
   "outputs": [
    {
     "name": "stdout",
     "output_type": "stream",
     "text": [
      "CPU times: total: 4.05 s\n",
      "Wall time: 5.78 s\n"
     ]
    },
    {
     "data": {
      "text/plain": [
       "(Card(\"9h\"), 2, Card(\"2c\"), 1)"
      ]
     },
     "execution_count": 30,
     "metadata": {},
     "output_type": "execute_result"
    }
   ],
   "source": [
    "%time solve_4_cards(h, cards)"
   ]
  },
  {
   "cell_type": "code",
   "execution_count": null,
   "id": "b265699a",
   "metadata": {},
   "outputs": [],
   "source": [
    "# original: 5.89 s\n",
    "# royalty calculator as functions, not a class: 5.66 s\n",
    "# cython royalty calculator: 5.1 s"
   ]
  },
  {
   "cell_type": "code",
   "execution_count": null,
   "id": "a40fb781",
   "metadata": {},
   "outputs": [],
   "source": [
    "# Card(\"9h\"), 2, Card(\"2c\"), 1"
   ]
  },
  {
   "cell_type": "code",
   "execution_count": 37,
   "id": "143679bc",
   "metadata": {},
   "outputs": [
    {
     "data": {
      "text/plain": [
       "(Card(\"9h\"), 2, Card(\"2c\"), 1)"
      ]
     },
     "execution_count": 37,
     "metadata": {},
     "output_type": "execute_result"
    }
   ],
   "source": [
    "simulate_4_cards(h, cards, 100)"
   ]
  },
  {
   "cell_type": "code",
   "execution_count": null,
   "id": "5107b810",
   "metadata": {},
   "outputs": [],
   "source": []
  },
  {
   "cell_type": "code",
   "execution_count": null,
   "id": "67b28816",
   "metadata": {},
   "outputs": [],
   "source": [
    "value_dic = {'opt': [], '10': [], '20': [], '50': [], '100': [], '200': [], '500': []}\n",
    "\n",
    "for _ in tqdm(range(10_000)):\n",
    "    hand = Hand()\n",
    "    deck = Deck()\n",
    "    deck.shuffle()\n",
    "\n",
    "    base_agent = OFCRandomAgent()\n",
    "    cards = deck.deal(5)\n",
    "    place_list = base_agent.place_cards(cards, hand)\n",
    "\n",
    "    for card, row in place_list:\n",
    "        hand.add_card(card, row)\n",
    "\n",
    "    for _ in range(2):\n",
    "        cards = deck.deal(3)\n",
    "        place_list = base_agent.place_cards(cards, hand)\n",
    "\n",
    "        for card, row in place_list:\n",
    "            hand.add_card(card, row)\n",
    "    # print('Original hand:')\n",
    "    # hand.print_hand()\n",
    "    # print()\n",
    "    \n",
    "    cards_4 = deck.deal(3)\n",
    "    cards_5 = deck.deal(3)\n",
    "    # print('Cards:', cards_4)\n",
    "    \n",
    "    \n",
    "    for agent in [Solver_4(), Sim_4(10), Sim_4(20), Sim_4(50), Sim_4(100), Sim_4(200), Sim_4(500)]:    \n",
    "        temp_hand = hand.copy()\n",
    "        place_list = agent.place_cards(cards_4, temp_hand)\n",
    "        for card, row in place_list:\n",
    "            temp_hand.add_card(card, row)\n",
    "\n",
    "        place_list = solve_2_cards(temp_hand, cards_5, result='arr')\n",
    "        for card, row in place_list:\n",
    "            temp_hand.add_card(card, row)\n",
    "\n",
    "\n",
    "        # temp_hand.print_hand()\n",
    "        temp_hand.evaluate_hand()\n",
    "        score = temp_hand.fantasy_score()\n",
    "        \n",
    "        if agent.__class__.__name__ == 'Solver_4':\n",
    "            value_dic['opt'].append(score)\n",
    "        elif agent.__class__.__name__ == 'Sim_4':\n",
    "            if agent.__dict__['n_sim'] == 10:\n",
    "                value_dic['10'].append(score)\n",
    "            elif agent.__dict__['n_sim'] == 20:\n",
    "                value_dic['20'].append(score)\n",
    "            elif agent.__dict__['n_sim'] == 50:\n",
    "                value_dic['50'].append(score)\n",
    "            elif agent.__dict__['n_sim'] == 100:\n",
    "                value_dic['100'].append(score)\n",
    "            elif agent.__dict__['n_sim'] == 200:\n",
    "                value_dic['200'].append(score)\n",
    "            elif agent.__dict__['n_sim'] == 500:\n",
    "                value_dic['500'].append(score)\n",
    "        # print('*'*10)\n",
    "    # print('*'*20)"
   ]
  },
  {
   "cell_type": "code",
   "execution_count": null,
   "id": "84cde176",
   "metadata": {},
   "outputs": [],
   "source": [
    "print('regret of 10 sims:', np.mean(np.array(value_dic['opt']) - np.array(value_dic['10'])))\n",
    "print('regret of 20 sims:', np.mean(np.array(value_dic['opt']) - np.array(value_dic['20'])))\n",
    "print('regret of 50 sims:', np.mean(np.array(value_dic['opt']) - np.array(value_dic['50'])))\n",
    "print('regret of 100 sims:', np.mean(np.array(value_dic['opt']) - np.array(value_dic['100'])))\n",
    "print('regret of 200 sims:', np.mean(np.array(value_dic['opt']) - np.array(value_dic['200'])))\n",
    "print('regret of 500 sims:', np.mean(np.array(value_dic['opt']) - np.array(value_dic['500'])))"
   ]
  },
  {
   "cell_type": "code",
   "execution_count": null,
   "id": "43a29fbb",
   "metadata": {},
   "outputs": [],
   "source": []
  },
  {
   "cell_type": "code",
   "execution_count": null,
   "id": "ea6b96bd",
   "metadata": {},
   "outputs": [],
   "source": [
    "def get_possible_slots(hand):\n",
    "    front_slots = 3 - len(hand.front)\n",
    "    mid_slots = 5 - len(hand.mid)\n",
    "    back_slots = 5 - len(hand.back)\n",
    "\n",
    "    return (0,) * front_slots + (1,) * mid_slots + (2,) * back_slots\n",
    "\n",
    "\n",
    "def place_cards(hand, cards_to_place, slots_):\n",
    "    free_slots = set(permutations(slots_, 2))\n",
    "    cards_stack = combinations(cards_to_place, 2)\n",
    "    # print(len(list(cards_stack)))\n",
    "\n",
    "    hands_arr = []\n",
    "\n",
    "    for cards, slots in product(cards_stack, free_slots):\n",
    "        temp_hand = hand.copy()\n",
    "        temp_hand.add_card(cards[0], slots[0])\n",
    "        temp_hand.add_card(cards[1], slots[1])\n",
    "        temp_hand.last_update = (cards, slots)\n",
    "        hands_arr.append(temp_hand)\n",
    "\n",
    "    return hands_arr"
   ]
  },
  {
   "cell_type": "code",
   "execution_count": null,
   "id": "1b1ebfaa",
   "metadata": {},
   "outputs": [],
   "source": [
    "%%timeit\n",
    "h = Hand([Card('Ad'), Card('Qd')], \n",
    "         [Card('6d'), Card('2h'), Card('2d'), Card('4s'),], \n",
    "         [Card('9d'), Card('7s'), Card('9c')])\n",
    "cards = (Card('4h'), Card('9h'), Card('2c'))\n",
    "\n",
    "slots = get_possible_slots(h)\n",
    "place_cards(h, cards, slots)"
   ]
  },
  {
   "cell_type": "code",
   "execution_count": null,
   "id": "0a0bfd4b",
   "metadata": {},
   "outputs": [],
   "source": [
    "# 49.8 µs ± 1.6 µs"
   ]
  },
  {
   "cell_type": "code",
   "execution_count": null,
   "id": "826c5543",
   "metadata": {},
   "outputs": [],
   "source": []
  },
  {
   "cell_type": "code",
   "execution_count": null,
   "id": "6298eecc",
   "metadata": {},
   "outputs": [],
   "source": []
  },
  {
   "cell_type": "code",
   "execution_count": null,
   "id": "268ff340",
   "metadata": {},
   "outputs": [],
   "source": []
  },
  {
   "cell_type": "code",
   "execution_count": null,
   "id": "6af00e98",
   "metadata": {},
   "outputs": [],
   "source": [
    "%load_ext Cython"
   ]
  },
  {
   "cell_type": "code",
   "execution_count": null,
   "id": "b914b5d7",
   "metadata": {},
   "outputs": [],
   "source": [
    "%%cython -a\n",
    "#cython: language_level=3, boundscheck=False, wraparound=False\n",
    "\n",
    "from itertools import product, combinations, permutations\n",
    "\n",
    "cpdef object place_cards(object hand, tuple cards_to_place, tuple slots_):\n",
    "    cdef:\n",
    "        set free_slots\n",
    "        tuple cards_stack\n",
    "        list hands_arr = []\n",
    "        object temp_hand\n",
    "    \n",
    "    free_slots = set(permutations(slots_, 2))\n",
    "    cards_stack = tuple(combinations(cards_to_place, 2))\n",
    "\n",
    "    for cards, slots in product(cards_stack, free_slots):\n",
    "        temp_hand = hand.copy()\n",
    "        temp_hand.add_card(cards[0], slots[0])\n",
    "        temp_hand.add_card(cards[1], slots[1])\n",
    "        temp_hand.last_update = (cards, slots)\n",
    "        hands_arr.append(temp_hand)\n",
    "\n",
    "    return hands_arr"
   ]
  },
  {
   "cell_type": "code",
   "execution_count": null,
   "id": "6448b7c8",
   "metadata": {},
   "outputs": [],
   "source": []
  },
  {
   "cell_type": "code",
   "execution_count": null,
   "id": "33630314",
   "metadata": {},
   "outputs": [],
   "source": [
    "# Original: 498 ns ± 9.24 ns\n",
    "# Compiled with ctypes: 308 ns ± 7.68 ns  \n",
    "# "
   ]
  },
  {
   "cell_type": "code",
   "execution_count": null,
   "id": "259f0660",
   "metadata": {},
   "outputs": [],
   "source": []
  },
  {
   "cell_type": "code",
   "execution_count": null,
   "id": "f9eac0b0",
   "metadata": {},
   "outputs": [],
   "source": [
    "from hand import Hand\n",
    "from eval7 import Deck, Card, handtype, evaluate\n",
    "h = Hand([Card('Ad')], \n",
    "         [Card('6d'), Card('2h'), Card('2d'), Card('4s'),], \n",
    "         [Card('9d'), Card('7s')])"
   ]
  },
  {
   "cell_type": "code",
   "execution_count": null,
   "id": "b0c9f125",
   "metadata": {},
   "outputs": [],
   "source": [
    "%timeit get_possible_slots(h)"
   ]
  },
  {
   "cell_type": "code",
   "execution_count": null,
   "id": "9b05ded1",
   "metadata": {},
   "outputs": [],
   "source": [
    "# %%timeit\n",
    "h = Hand([Card('Ad'), Card('Qd')], \n",
    "         [Card('6d'), Card('2h'), Card('2d'), Card('4s'),], \n",
    "         [Card('9d'), Card('7s'), Card('9c')])\n",
    "cards = (Card('4h'), Card('9h'), Card('2c'))\n",
    "\n",
    "slots = get_possible_slots(h)\n",
    "place_cards(h, cards, slots)"
   ]
  },
  {
   "cell_type": "code",
   "execution_count": null,
   "id": "58bdab3e",
   "metadata": {},
   "outputs": [],
   "source": [
    "len(place_cards(h, cards, slots))"
   ]
  },
  {
   "cell_type": "code",
   "execution_count": null,
   "id": "e99e7733",
   "metadata": {},
   "outputs": [],
   "source": []
  },
  {
   "cell_type": "code",
   "execution_count": null,
   "id": "5d8e6968",
   "metadata": {},
   "outputs": [],
   "source": []
  },
  {
   "cell_type": "code",
   "execution_count": null,
   "id": "3045616a",
   "metadata": {},
   "outputs": [],
   "source": [
    "%timeit [(a,b) for a in cards_arr for b in free_slots]"
   ]
  },
  {
   "cell_type": "code",
   "execution_count": null,
   "id": "cb8b6d6c",
   "metadata": {},
   "outputs": [],
   "source": [
    "%timeit product(cards_arr, free_slots)"
   ]
  },
  {
   "cell_type": "code",
   "execution_count": null,
   "id": "f69ba706",
   "metadata": {},
   "outputs": [],
   "source": []
  },
  {
   "cell_type": "code",
   "execution_count": null,
   "id": "74d29337",
   "metadata": {},
   "outputs": [],
   "source": [
    "def place_cards(hand, cards_to_place, slots_):\n",
    "    free_slots = set(permutations(slots_, 2))\n",
    "\n",
    "    hands_arr = []\n",
    "    used_cards = []\n",
    "    cards_arr = []\n",
    "\n",
    "    for perm in permutations(cards_to_place, 3):\n",
    "        dead_card = perm[2]\n",
    "        if dead_card in used_cards:\n",
    "            continue\n",
    "\n",
    "        used_cards.append(dead_card)\n",
    "        cards_arr.append(perm)\n",
    "\n",
    "    for cards, slots in product(cards_arr, free_slots):\n",
    "        temp_hand = hand.copy()\n",
    "        dead_cards = set((0,1,2)) - set(slots)\n",
    "        if len(dead_cards) == 1:\n",
    "            temp_hand.dead_cards.append(cards[dead_cards.pop()])\n",
    "        elif len(dead_cards) == 2:\n",
    "            temp_hand.dead_cards.append(cards[dead_cards.pop()])\n",
    "            temp_hand.dead_cards.append(cards[dead_cards.pop()])\n",
    "        temp_hand.add_card(cards[0], slots[0])\n",
    "        temp_hand.add_card(cards[1], slots[1])\n",
    "        temp_hand.last_update = (cards, slots)\n",
    "        hands_arr.append(temp_hand)\n",
    "\n",
    "    return hands_arr"
   ]
  },
  {
   "cell_type": "code",
   "execution_count": null,
   "id": "3c9458c6",
   "metadata": {},
   "outputs": [],
   "source": [
    "def place_cards(hand, cards_to_place, slots_):\n",
    "    free_slots = set(permutations(slots_, 2))\n",
    "    cards_stack = combinations(cards_to_place, 2)\n",
    "\n",
    "    hands_arr = []\n",
    "\n",
    "    for cards, slots in product(cards_stack, free_slots):\n",
    "        temp_hand = hand.copy()\n",
    "        temp_hand.add_card(cards[0], slots[0])\n",
    "        temp_hand.add_card(cards[1], slots[1])\n",
    "        \n",
    "        temp_hand.last_update = (cards, slots)\n",
    "        hands_arr.append(temp_hand)\n",
    "\n",
    "    return hands_arr"
   ]
  },
  {
   "cell_type": "code",
   "execution_count": null,
   "id": "94fa7c57",
   "metadata": {},
   "outputs": [],
   "source": [
    "h = Hand([Card('Ad'), Card('Qd')], \n",
    "         [Card('6d'), Card('2h'), Card('2d'), Card('4s'),], \n",
    "         [Card('9d'), Card('7s'), Card('9c')])\n",
    "cards = (Card('4h'), Card('9h'), Card('2c'))\n",
    "\n",
    "slots = get_possible_slots(h)\n",
    "z  = place_cards(h, cards, slots)"
   ]
  },
  {
   "cell_type": "code",
   "execution_count": null,
   "id": "cec64c7a",
   "metadata": {},
   "outputs": [],
   "source": []
  },
  {
   "cell_type": "code",
   "execution_count": 77,
   "id": "bf18ee8e",
   "metadata": {},
   "outputs": [],
   "source": [
    "used_cards = h.front + h.mid + h.back + list(cards) + h.dead_cards\n"
   ]
  },
  {
   "cell_type": "code",
   "execution_count": 86,
   "id": "0e594935",
   "metadata": {},
   "outputs": [
    {
     "data": {
      "text/plain": [
       "40"
      ]
     },
     "execution_count": 86,
     "metadata": {},
     "output_type": "execute_result"
    }
   ],
   "source": [
    "len(set(Deck().cards) - set(used_cards))\n"
   ]
  },
  {
   "cell_type": "code",
   "execution_count": 81,
   "id": "25610d19",
   "metadata": {},
   "outputs": [
    {
     "name": "stdout",
     "output_type": "stream",
     "text": [
      "16.9 µs ± 158 ns per loop (mean ± std. dev. of 7 runs, 100,000 loops each)\n"
     ]
    }
   ],
   "source": [
    "%timeit set(Deck().cards).difference(set(used_cards))"
   ]
  },
  {
   "cell_type": "code",
   "execution_count": 87,
   "id": "463c11e3",
   "metadata": {},
   "outputs": [
    {
     "name": "stdout",
     "output_type": "stream",
     "text": [
      "13.2 µs ± 69.3 ns per loop (mean ± std. dev. of 7 runs, 100,000 loops each)\n"
     ]
    }
   ],
   "source": [
    "%timeit (card for card in Deck().cards if card not in used_cards)"
   ]
  },
  {
   "cell_type": "code",
   "execution_count": null,
   "id": "69035381",
   "metadata": {},
   "outputs": [],
   "source": [
    "# 17.1 µs ± 142 n\n",
    "# 16.9 µs ± 158 ns\n",
    "# "
   ]
  }
 ],
 "metadata": {
  "kernelspec": {
   "display_name": "Python 3 (ipykernel)",
   "language": "python",
   "name": "python3"
  },
  "language_info": {
   "codemirror_mode": {
    "name": "ipython",
    "version": 3
   },
   "file_extension": ".py",
   "mimetype": "text/x-python",
   "name": "python",
   "nbconvert_exporter": "python",
   "pygments_lexer": "ipython3",
   "version": "3.10.9"
  }
 },
 "nbformat": 4,
 "nbformat_minor": 5
}
