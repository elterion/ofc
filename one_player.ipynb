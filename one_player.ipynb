{
 "cells": [
  {
   "cell_type": "code",
   "execution_count": 1,
   "id": "e9d22866",
   "metadata": {},
   "outputs": [],
   "source": [
    "import sys\n",
    "from hand import Hand\n",
    "from eval7 import Deck\n",
    "import random\n",
    "from itertools import combinations"
   ]
  },
  {
   "cell_type": "code",
   "execution_count": 41,
   "id": "72e704ca",
   "metadata": {},
   "outputs": [],
   "source": [
    "class OFCAgent():\n",
    "    \"\"\"An OFC decision maker.\"\"\"\n",
    "    \n",
    "    def place_cards(self, cards, hand):\n",
    "        \"\"\"Return -1, 0, 1, 2 for miss, front, mid, back.\"\"\"\n",
    "        pass\n",
    "    \n",
    "class OFCRandomAgent(OFCAgent):\n",
    "    \"\"\"Place cards at random!\"\"\"\n",
    "\n",
    "    def place_cards(self, cards, hand):\n",
    "        if hand.front + hand.mid + hand.back:\n",
    "            cards_to_place = random.sample(cards, 2)\n",
    "        else:\n",
    "            cards_to_place = cards\n",
    "            \n",
    "        if len(cards) == 3:\n",
    "            hand.dead_cards.append(list(set(cards) - set(cards_to_place))[0])\n",
    "            \n",
    "        res = []\n",
    "        \n",
    "        empty_cells = {0: 3 - len(hand.front), 1: 5 - len(hand.mid), 2: 5 - len(hand.back)}\n",
    "        \n",
    "        for card in cards_to_place:\n",
    "            space = [k for k, v in empty_cells.items() if v > 0]\n",
    "            row = random.choice(space)\n",
    "            empty_cells[row] -= 1\n",
    "            \n",
    "            res.append((card, row))\n",
    "                                    \n",
    "        return res"
   ]
  },
  {
   "cell_type": "code",
   "execution_count": 42,
   "id": "4aea3bde",
   "metadata": {},
   "outputs": [],
   "source": [
    "class OFCHumanAgent(OFCAgent):\n",
    "    def place_cards(self, cards, hand):\n",
    "        while True:\n",
    "            place_list = []\n",
    "            dead_card = None\n",
    "            empty_cells = {-1: 0, 0: 3 - len(hand.front), 1: 5 - len(hand.mid), 2: 5 - len(hand.back)}\n",
    "\n",
    "            for card in cards:\n",
    "                while True:\n",
    "                    try:\n",
    "                        row = int(input(f'Выберите номер ряда для карты {card}. Чтобы пропустить карту введите -1: '))\n",
    "                    except(ValueError):\n",
    "                        print('Номер ряда должен быть числом.')\n",
    "                        continue\n",
    "                    except KeyboardInterrupt:\n",
    "                        sys.exit(0)\n",
    "\n",
    "                    if row not in (-1, 0, 1, 2):\n",
    "                        print('Введите корректный номер ряда:')\n",
    "                        continue\n",
    "                    if row == -1:\n",
    "                        if sum(empty_cells.values()) > 8:\n",
    "                            print('В первом раунде необходимо выложить все карты.')\n",
    "                            continue\n",
    "                        dead_card = card\n",
    "                        break\n",
    "                    else:\n",
    "                        empty_cells[row] -= 1\n",
    "\n",
    "                    if empty_cells[row] < 0:\n",
    "                        print('Ряд заполнен! Введите корректный номер ряда:')\n",
    "                        continue\n",
    "\n",
    "                    place_list.append((card, row))\n",
    "\n",
    "                    break\n",
    "\n",
    "            if len(hand.front + hand.mid + hand.back) >= 5 and len(place_list) != 2:\n",
    "                print('Необходимо выложить на доску ровно 2 карты.')\n",
    "                continue\n",
    "\n",
    "            break\n",
    "        \n",
    "        if dead_card:\n",
    "            hand.dead_cards.append(dead_card)\n",
    "        \n",
    "        return place_list"
   ]
  },
  {
   "cell_type": "code",
   "execution_count": 43,
   "id": "19c231e3",
   "metadata": {},
   "outputs": [],
   "source": [
    "class OnePlayerGame:\n",
    "    def __init__(self, agent = None, verbose = False):\n",
    "        self.hand = Hand()\n",
    "        self.deck = Deck()\n",
    "        self.deck.shuffle()\n",
    "        self.agent = agent\n",
    "        self.verbose = verbose\n",
    "        \n",
    "        self.placed_cards = []\n",
    "\n",
    "    def __print_cards(self, cards):\n",
    "        print([x.__str__() for x in cards])\n",
    "\n",
    "    def __print_hand(self, hand):\n",
    "        len_front = 3 - len(hand.front)\n",
    "        len_mid = 5 - len(hand.mid)\n",
    "        len_back = 5 - len(hand.back)\n",
    "\n",
    "        temp_front = [card.__str__() for card in hand.front] + ['#'] * len_front\n",
    "        temp_mid = [card.__str__() for card in hand.mid] + ['#'] * len_mid\n",
    "        temp_back = [card.__str__() for card in hand.back] + ['#'] * len_back\n",
    "\n",
    "        print(temp_front)\n",
    "        print(temp_mid)\n",
    "        print(temp_back)\n",
    "\n",
    "    def __place_card(self, cards):\n",
    "        place_list = self.agent.place_cards(cards, self.hand)\n",
    "\n",
    "        for card, row in place_list:\n",
    "            self.hand.add_card(card, row)\n",
    "        \n",
    "    def play_street(self):\n",
    "        if self.hand.front + self.hand.mid + self.hand.back:\n",
    "            cards = self.deck.deal(3)\n",
    "        else:\n",
    "            cards = self.deck.deal(5)\n",
    "        if self.verbose:\n",
    "            self.__print_hand(self.hand)\n",
    "            print('*' * 10)\n",
    "            print('Cards:')\n",
    "            self.__print_cards(cards)\n",
    "        self.__place_card(cards)\n"
   ]
  },
  {
   "cell_type": "code",
   "execution_count": 44,
   "id": "1a0c19fa",
   "metadata": {
    "scrolled": true
   },
   "outputs": [
    {
     "name": "stdout",
     "output_type": "stream",
     "text": [
      "['#', '#', '#']\n",
      "['#', '#', '#', '#', '#']\n",
      "['#', '#', '#', '#', '#']\n",
      "**********\n",
      "Cards:\n",
      "['9h', 'Js', '4h', 'Ks', 'Jd']\n",
      "['9h', '4h', 'Jd']\n",
      "['#', '#', '#', '#', '#']\n",
      "['Js', 'Ks', '#', '#', '#']\n",
      "**********\n",
      "Cards:\n",
      "['7s', '2s', 'Kh']\n",
      "['9h', '4h', 'Jd']\n",
      "['Kh', '#', '#', '#', '#']\n",
      "['Js', 'Ks', '7s', '#', '#']\n",
      "**********\n",
      "Cards:\n",
      "['7c', '5h', '3h']\n",
      "['9h', '4h', 'Jd']\n",
      "['Kh', '7c', '#', '#', '#']\n",
      "['Js', 'Ks', '7s', '5h', '#']\n",
      "**********\n",
      "Cards:\n",
      "['Ac', '6d', 'Qc']\n",
      "['9h', '4h', 'Jd']\n",
      "['Kh', '7c', '6d', 'Ac', '#']\n",
      "['Js', 'Ks', '7s', '5h', '#']\n",
      "**********\n",
      "Cards:\n",
      "['Tc', 'Ad', 'Td']\n",
      "**********\n",
      "['9h', '4h', 'Jd']\n",
      "['Kh', '7c', '6d', 'Ac', 'Td']\n",
      "['Js', 'Ks', '7s', '5h', 'Tc']\n",
      "Hand mucked! Score: -6\n"
     ]
    }
   ],
   "source": [
    "agent = OFCRandomAgent()\n",
    "# agent = OFCHumanAgent()\n",
    "\n",
    "game = OnePlayerGame(agent=agent, verbose=True)\n",
    "# game.first_street()\n",
    "for _ in range(5):\n",
    "    # print(game.hand.get_free_street_indices())\n",
    "    game.play_street()\n",
    "\n",
    "game.hand.evaluate_hand()\n",
    "print('*' * 10)\n",
    "game.hand.print_hand()\n"
   ]
  },
  {
   "cell_type": "code",
   "execution_count": 6,
   "id": "2a9ea074",
   "metadata": {},
   "outputs": [
    {
     "data": {
      "text/plain": [
       "9139"
      ]
     },
     "execution_count": 6,
     "metadata": {},
     "output_type": "execute_result"
    }
   ],
   "source": [
    "len(list(combinations(range(39), 3)))"
   ]
  },
  {
   "cell_type": "code",
   "execution_count": 45,
   "id": "d9ebecd9",
   "metadata": {},
   "outputs": [
    {
     "data": {
      "text/plain": [
       "[Card(\"2s\"), Card(\"3h\"), Card(\"Qc\"), Card(\"Ad\")]"
      ]
     },
     "execution_count": 45,
     "metadata": {},
     "output_type": "execute_result"
    }
   ],
   "source": [
    "game.hand.dead_cards"
   ]
  },
  {
   "cell_type": "code",
   "execution_count": null,
   "id": "3f264b22",
   "metadata": {},
   "outputs": [],
   "source": []
  },
  {
   "cell_type": "code",
   "execution_count": 27,
   "id": "ead45eef",
   "metadata": {},
   "outputs": [],
   "source": [
    "r1 = [\"5d\", \"Js\", \"9c\"] \n",
    "r2 = [\"9c\", \"5d\"]"
   ]
  },
  {
   "cell_type": "code",
   "execution_count": 36,
   "id": "46752602",
   "metadata": {},
   "outputs": [
    {
     "data": {
      "text/plain": [
       "'Js'"
      ]
     },
     "execution_count": 36,
     "metadata": {},
     "output_type": "execute_result"
    }
   ],
   "source": [
    "r3 = list(set(r1) - set(r2))[0]\n",
    "r3"
   ]
  },
  {
   "cell_type": "code",
   "execution_count": 31,
   "id": "adb8bd6f",
   "metadata": {},
   "outputs": [
    {
     "data": {
      "text/plain": [
       "set"
      ]
     },
     "execution_count": 31,
     "metadata": {},
     "output_type": "execute_result"
    }
   ],
   "source": [
    "type(r3)"
   ]
  },
  {
   "cell_type": "code",
   "execution_count": null,
   "id": "6ebba2a8",
   "metadata": {},
   "outputs": [],
   "source": []
  }
 ],
 "metadata": {
  "kernelspec": {
   "display_name": "Python 3 (ipykernel)",
   "language": "python",
   "name": "python3"
  },
  "language_info": {
   "codemirror_mode": {
    "name": "ipython",
    "version": 3
   },
   "file_extension": ".py",
   "mimetype": "text/x-python",
   "name": "python",
   "nbconvert_exporter": "python",
   "pygments_lexer": "ipython3",
   "version": "3.10.9"
  }
 },
 "nbformat": 4,
 "nbformat_minor": 5
}
