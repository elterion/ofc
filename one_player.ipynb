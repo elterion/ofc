{
 "cells": [
  {
   "cell_type": "code",
   "execution_count": 50,
   "id": "7d67ae0a",
   "metadata": {},
   "outputs": [],
   "source": [
    "import sys\n",
    "from hand import Hand\n",
    "from eval7 import Deck\n",
    "import random\n",
    "from itertools import combinations"
   ]
  },
  {
   "cell_type": "code",
   "execution_count": 71,
   "id": "87a58dba",
   "metadata": {},
   "outputs": [],
   "source": [
    "class OFCAgent():\n",
    "    \"\"\"An OFC decision maker.\"\"\"\n",
    "    \n",
    "    def place_new_card(self, cards, hand):\n",
    "        \"\"\"Return -1, 0, 1, 2 for miss, front, mid, back.\"\"\"\n",
    "        pass\n",
    "    \n",
    "class OFCRandomAgent(OFCAgent):\n",
    "    \"\"\"Place cards at random!\"\"\"\n",
    "\n",
    "    def place_cards(self, cards, hand):\n",
    "        if hand.front + hand.mid + hand.back:\n",
    "            cards_to_place = random.sample(cards, 2)\n",
    "        else:\n",
    "            cards_to_place = cards\n",
    "            \n",
    "        res = []\n",
    "        \n",
    "        empty_cells = {0: 3 - len(hand.front), 1: 5 - len(hand.mid), 2: 5 - len(hand.back)}\n",
    "        \n",
    "        for card in cards_to_place:\n",
    "            space = [k for k, v in empty_cells.items() if v > 0]\n",
    "            row = random.choice(space)\n",
    "            empty_cells[row] -= 1\n",
    "            \n",
    "            res.append((card, row))\n",
    "                                    \n",
    "        return res"
   ]
  },
  {
   "cell_type": "code",
   "execution_count": 72,
   "id": "8e36a7bb",
   "metadata": {},
   "outputs": [],
   "source": [
    "class OnePlayerGame:\n",
    "    def __init__(self, agent = None):\n",
    "        self.hand = Hand()\n",
    "        self.deck = Deck()\n",
    "        self.deck.shuffle()\n",
    "        self.agent = agent\n",
    "        \n",
    "        self.placed_cards = []\n",
    "\n",
    "    def __print_cards(self, cards):\n",
    "        print([x.__str__() for x in cards])\n",
    "\n",
    "    def __print_hand(self, hand):\n",
    "        len_front = 3 - len(hand.front)\n",
    "        len_mid = 5 - len(hand.mid)\n",
    "        len_back = 5 - len(hand.back)\n",
    "\n",
    "        temp_front = [card.__str__() for card in hand.front] + ['#'] * len_front\n",
    "        temp_mid = [card.__str__() for card in hand.mid] + ['#'] * len_mid\n",
    "        temp_back = [card.__str__() for card in hand.back] + ['#'] * len_back\n",
    "\n",
    "        print(temp_front)\n",
    "        print(temp_mid)\n",
    "        print(temp_back)\n",
    "\n",
    "    def __place_card(self, cards):\n",
    "        if self.agent:\n",
    "            place_list = self.agent.place_cards(cards, self.hand)\n",
    "            \n",
    "            for card, row in place_list:\n",
    "                self.hand.add_card(card, row)\n",
    "        else:\n",
    "            while True:\n",
    "                place_list = []\n",
    "                empty_cells = {-1: 0, 0: 3 - len(self.hand.front), 1: 5 - len(self.hand.mid), 2: 5 - len(self.hand.back)}\n",
    "\n",
    "                for card in cards:\n",
    "                    while True:\n",
    "                        try:\n",
    "                            row = int(input(f'Выберите номер ряда для карты {card}. Чтобы пропустить карту введите -1: '))\n",
    "                        except(ValueError):\n",
    "                            print('Номер ряда должен быть числом.')\n",
    "                            continue\n",
    "                        except KeyboardInterrupt:\n",
    "                            sys.exit(0)\n",
    "\n",
    "                        if row not in (-1, 0, 1, 2):\n",
    "                            print('Введите корректный номер ряда:')\n",
    "                            continue\n",
    "                        if row == -1:\n",
    "                            if len(self.placed_cards) < 5:\n",
    "                                print('В первом раунде необходимо выложить все карты.')\n",
    "                                continue\n",
    "                            break\n",
    "                        else:\n",
    "                            empty_cells[row] -= 1\n",
    "\n",
    "                        if empty_cells[row] < 0:\n",
    "                            print('Ряд заполнен! Введите корректный номер ряда:')\n",
    "                            continue\n",
    "\n",
    "                        place_list.append((card, row))\n",
    "\n",
    "                        break\n",
    "\n",
    "                if len(self.placed_cards) >= 5 and len(place_list) != 2:\n",
    "                    print('Необходимо выложить на доску ровно 2 карты.')\n",
    "                    continue\n",
    "\n",
    "                for card, row in place_list:\n",
    "                    self.hand.add_card(card, row)\n",
    "                    self.placed_cards.append(card)\n",
    "\n",
    "                break\n",
    "\n",
    "\n",
    "    def first_street(self):\n",
    "        cards = self.deck.deal(5)\n",
    "        if not self.agent:\n",
    "            self.__print_hand(self.hand)\n",
    "            print('*' * 10)\n",
    "            print('Cards:')\n",
    "            self.__print_cards(cards)\n",
    "        self.__place_card(cards)\n",
    "\n",
    "    def late_streets(self):\n",
    "        cards = self.deck.deal(3)\n",
    "        if not self.agent:\n",
    "            self.__print_hand(self.hand)\n",
    "            print('*' * 10)\n",
    "            print('Cards:')\n",
    "            self.__print_cards(cards)\n",
    "        self.__place_card(cards)\n"
   ]
  },
  {
   "cell_type": "code",
   "execution_count": 81,
   "id": "2bfb9892",
   "metadata": {
    "scrolled": true
   },
   "outputs": [
    {
     "name": "stdout",
     "output_type": "stream",
     "text": [
      "**********\n",
      "['9c', 'Qc', 'Kh']\n",
      "['2s', '5c', 'Ks', '2c', '8h']\n",
      "['7c', '9d', '2h', 'Jc', '6s']\n",
      "Hand mucked! Score: -6\n"
     ]
    }
   ],
   "source": [
    "agent = OFCRandomAgent()\n",
    "\n",
    "game = OnePlayerGame(agent)\n",
    "game.first_street()\n",
    "for _ in range(4):\n",
    "    # print(game.hand.get_free_street_indices())\n",
    "    game.late_streets()\n",
    "\n",
    "game.hand.evaluate_hand()\n",
    "print('*' * 10)\n",
    "game.hand.print_hand()\n"
   ]
  },
  {
   "cell_type": "code",
   "execution_count": null,
   "id": "7c827777",
   "metadata": {},
   "outputs": [],
   "source": []
  },
  {
   "cell_type": "code",
   "execution_count": 61,
   "id": "44d61aa9",
   "metadata": {},
   "outputs": [
    {
     "name": "stdout",
     "output_type": "stream",
     "text": [
      "[]\n",
      "[]\n",
      "[]\n"
     ]
    }
   ],
   "source": [
    "game.hand.print_hand()"
   ]
  },
  {
   "cell_type": "code",
   "execution_count": 19,
   "id": "bbd76636",
   "metadata": {},
   "outputs": [],
   "source": [
    "agent = OFCRandomAgent()"
   ]
  },
  {
   "cell_type": "code",
   "execution_count": 9,
   "id": "8b6bfd4f",
   "metadata": {},
   "outputs": [
    {
     "data": {
      "text/plain": [
       "{0: 2, 1: 3, 2: 3}"
      ]
     },
     "execution_count": 9,
     "metadata": {},
     "output_type": "execute_result"
    }
   ],
   "source": [
    "empty_cells = game.hand.get_empty_cells()\n",
    "empty_cells"
   ]
  },
  {
   "cell_type": "code",
   "execution_count": null,
   "id": "d4f25b36",
   "metadata": {},
   "outputs": [],
   "source": []
  },
  {
   "cell_type": "code",
   "execution_count": 40,
   "id": "fbb8d761",
   "metadata": {},
   "outputs": [
    {
     "data": {
      "text/plain": [
       "0"
      ]
     },
     "execution_count": 40,
     "metadata": {},
     "output_type": "execute_result"
    }
   ],
   "source": [
    "agent.place_card([-1, 0, 1, 2])"
   ]
  },
  {
   "cell_type": "code",
   "execution_count": 52,
   "id": "c5aa4a09",
   "metadata": {},
   "outputs": [
    {
     "data": {
      "text/plain": [
       "[(1, 2), (1, 3), (2, 3)]"
      ]
     },
     "execution_count": 52,
     "metadata": {},
     "output_type": "execute_result"
    }
   ],
   "source": [
    "list(combinations([1,2,3], 2))"
   ]
  },
  {
   "cell_type": "code",
   "execution_count": 53,
   "id": "6be6cc90",
   "metadata": {},
   "outputs": [
    {
     "data": {
      "text/plain": [
       "[2, 0]"
      ]
     },
     "execution_count": 53,
     "metadata": {},
     "output_type": "execute_result"
    }
   ],
   "source": [
    "random.sample([-1, 0, 1, 2], 2)"
   ]
  },
  {
   "cell_type": "code",
   "execution_count": 62,
   "id": "764e17c2",
   "metadata": {},
   "outputs": [],
   "source": [
    "if game.hand.front + game.hand.mid + game.hand.back:\n",
    "    print('yes')"
   ]
  },
  {
   "cell_type": "code",
   "execution_count": null,
   "id": "1170149e",
   "metadata": {},
   "outputs": [],
   "source": []
  }
 ],
 "metadata": {
  "kernelspec": {
   "display_name": "Python 3 (ipykernel)",
   "language": "python",
   "name": "python3"
  },
  "language_info": {
   "codemirror_mode": {
    "name": "ipython",
    "version": 3
   },
   "file_extension": ".py",
   "mimetype": "text/x-python",
   "name": "python",
   "nbconvert_exporter": "python",
   "pygments_lexer": "ipython3",
   "version": "3.10.9"
  }
 },
 "nbformat": 4,
 "nbformat_minor": 5
}
